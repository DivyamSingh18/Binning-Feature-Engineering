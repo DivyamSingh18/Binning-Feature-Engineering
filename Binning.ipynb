{
 "cells": [
  {
   "cell_type": "markdown",
   "id": "0aaa1bb9",
   "metadata": {},
   "source": [
    "<img src='all.png'>"
   ]
  },
  {
   "cell_type": "markdown",
   "id": "11b419c3",
   "metadata": {},
   "source": [
    "# Binning\n",
    "While working with numeric data we come across some features where distributions of variables are skewed in the sense that some sets of values will occur a lot and some will be very rare. Directly using this type of feature may cause issues or can give inaccurate results.\n",
    "<img src='binning.jpeg'>\n",
    "\n",
    "Binning is a way to convert numerical continuous variables into discrete variables by categorizing them on the basis of the range of values of the column in which they fall. In this type of transformation, we create bins. Each bin allows a specific range of continuous numerical values. It prevents overfitting and increases the robustness of the model.\n",
    "\n",
    "Let’s understand this using an example. We have scores of 10 students as 35, 46, 89, 20, 58, 99, 74, 60, 18, 81. Our task is to make 3 teams. Team 1 will have students with scores between 1-40, Team 2 will have students with scores between 41-80, and Team 3 will have students with scores between 81-100.\n",
    "<img src='teams.jpeg'>\n",
    "\n",
    "#### Binning can be done in different ways listed below.\n",
    "\n",
    "    -> Fixed – Width Binning\n",
    "    -> Quantile Binning\n",
    "    -> Binning by Instinct\n",
    "      \n",
    "### 1. Fixed – Width Binning\n",
    "Just like the name indicates, in fixed-width binning, we have specific fixed widths for each of the bins which are usually pre-defined by the user analyzing the data. Each bin has a pre-fixed range of values that should be assigned to that bin on the basis of some domain knowledge, rules, or constraints.\n",
    "\n",
    "Let’s take an example to understand it better, we can group a person’s age interval to 10 years(decades). 0-  9 years will be in bin-1, 10-19 in bin-2 similarly 20-29 in bin-3\n",
    "\n",
    "<img src='eq_width.jpeg'>\n",
    "\n",
    "### 2. Quantile Binning\n",
    "If there are a large number of gaps in the range of numerical feature fix-width binning will not be that effective, there will be many empty bins with no data. In such cases binning is done on the basis of quantile distribution.\n",
    "\n",
    "Quantiles divide data into equal portions. The Median divides data into two parts, half of the data is smaller than the median, and half of the data is large than the median. Quartiles divide into quarters and deciles into tenth etc.\n",
    "\n",
    "<img src='quantile_binning.png'>\n",
    "\n",
    " ### 3. Binning by Instinct\n",
    "This actually involves a manual process of binning manually based on your own personal insight of the data and setting ranges we would like to bin our data into.\n",
    "\n",
    "Let’s take an example  to understand it better, we can group a person’s age into interval where 1-18 falls under a minor, 19- 29 under young, 30-49 under old, and 50-100 in very old."
   ]
  },
  {
   "cell_type": "code",
   "execution_count": 1,
   "id": "63c6f97b",
   "metadata": {},
   "outputs": [],
   "source": [
    "import pandas as pd\n",
    "import numpy as np\n",
    "import matplotlib.pyplot as plt"
   ]
  },
  {
   "cell_type": "code",
   "execution_count": 2,
   "id": "f3e067e5",
   "metadata": {},
   "outputs": [],
   "source": [
    "Crickters = {'Name':['Virat', 'Rohit', 'Babar', 'Boult', 'Bumrah', 'Mujeeb', 'Nabi', 'Strokes'],\n",
    "             \"Age\":[31,33,25,31,26,19,35,29],\n",
    "              'Role':['batsman','batsman','batsman','Bowler','Bowler','Bowler','All-Rounder','All-Rounder'],\n",
    "              'Rating':[871,855,829,722,719,701,301,285],\n",
    "              'Country':['IND','IND','PAK','NZ','IND','AFG','AFG','ENG']\n",
    "             } "
   ]
  },
  {
   "cell_type": "code",
   "execution_count": 3,
   "id": "cb76dc96",
   "metadata": {},
   "outputs": [
    {
     "data": {
      "text/html": [
       "<div>\n",
       "<style scoped>\n",
       "    .dataframe tbody tr th:only-of-type {\n",
       "        vertical-align: middle;\n",
       "    }\n",
       "\n",
       "    .dataframe tbody tr th {\n",
       "        vertical-align: top;\n",
       "    }\n",
       "\n",
       "    .dataframe thead th {\n",
       "        text-align: right;\n",
       "    }\n",
       "</style>\n",
       "<table border=\"1\" class=\"dataframe\">\n",
       "  <thead>\n",
       "    <tr style=\"text-align: right;\">\n",
       "      <th></th>\n",
       "      <th>Name</th>\n",
       "      <th>Age</th>\n",
       "      <th>Role</th>\n",
       "      <th>Rating</th>\n",
       "      <th>Country</th>\n",
       "    </tr>\n",
       "  </thead>\n",
       "  <tbody>\n",
       "    <tr>\n",
       "      <th>0</th>\n",
       "      <td>Virat</td>\n",
       "      <td>31</td>\n",
       "      <td>batsman</td>\n",
       "      <td>871</td>\n",
       "      <td>IND</td>\n",
       "    </tr>\n",
       "    <tr>\n",
       "      <th>1</th>\n",
       "      <td>Rohit</td>\n",
       "      <td>33</td>\n",
       "      <td>batsman</td>\n",
       "      <td>855</td>\n",
       "      <td>IND</td>\n",
       "    </tr>\n",
       "    <tr>\n",
       "      <th>2</th>\n",
       "      <td>Babar</td>\n",
       "      <td>25</td>\n",
       "      <td>batsman</td>\n",
       "      <td>829</td>\n",
       "      <td>PAK</td>\n",
       "    </tr>\n",
       "    <tr>\n",
       "      <th>3</th>\n",
       "      <td>Boult</td>\n",
       "      <td>31</td>\n",
       "      <td>Bowler</td>\n",
       "      <td>722</td>\n",
       "      <td>NZ</td>\n",
       "    </tr>\n",
       "    <tr>\n",
       "      <th>4</th>\n",
       "      <td>Bumrah</td>\n",
       "      <td>26</td>\n",
       "      <td>Bowler</td>\n",
       "      <td>719</td>\n",
       "      <td>IND</td>\n",
       "    </tr>\n",
       "    <tr>\n",
       "      <th>5</th>\n",
       "      <td>Mujeeb</td>\n",
       "      <td>19</td>\n",
       "      <td>Bowler</td>\n",
       "      <td>701</td>\n",
       "      <td>AFG</td>\n",
       "    </tr>\n",
       "    <tr>\n",
       "      <th>6</th>\n",
       "      <td>Nabi</td>\n",
       "      <td>35</td>\n",
       "      <td>All-Rounder</td>\n",
       "      <td>301</td>\n",
       "      <td>AFG</td>\n",
       "    </tr>\n",
       "    <tr>\n",
       "      <th>7</th>\n",
       "      <td>Strokes</td>\n",
       "      <td>29</td>\n",
       "      <td>All-Rounder</td>\n",
       "      <td>285</td>\n",
       "      <td>ENG</td>\n",
       "    </tr>\n",
       "  </tbody>\n",
       "</table>\n",
       "</div>"
      ],
      "text/plain": [
       "      Name  Age         Role  Rating Country\n",
       "0    Virat   31      batsman     871     IND\n",
       "1    Rohit   33      batsman     855     IND\n",
       "2    Babar   25      batsman     829     PAK\n",
       "3    Boult   31       Bowler     722      NZ\n",
       "4   Bumrah   26       Bowler     719     IND\n",
       "5   Mujeeb   19       Bowler     701     AFG\n",
       "6     Nabi   35  All-Rounder     301     AFG\n",
       "7  Strokes   29  All-Rounder     285     ENG"
      ]
     },
     "execution_count": 3,
     "metadata": {},
     "output_type": "execute_result"
    }
   ],
   "source": [
    "Crickters = pd.DataFrame(Crickters)\n",
    "Crickters"
   ]
  },
  {
   "cell_type": "code",
   "execution_count": 4,
   "id": "4f9a2e31",
   "metadata": {},
   "outputs": [
    {
     "data": {
      "text/plain": [
       "array([19.        , 24.33333333, 29.66666667, 35.        ])"
      ]
     },
     "execution_count": 4,
     "metadata": {},
     "output_type": "execute_result"
    }
   ],
   "source": [
    "bins = np.linspace(Crickters.Age.min(), Crickters.Age.max(), 4) # Fixed – Width Binning\n",
    "bins"
   ]
  },
  {
   "cell_type": "code",
   "execution_count": 5,
   "id": "2e6a58af",
   "metadata": {},
   "outputs": [],
   "source": [
    "Label_lst = ['Young', 'Senior' , 'Super_Senior']"
   ]
  },
  {
   "cell_type": "code",
   "execution_count": 6,
   "id": "c95713d7",
   "metadata": {},
   "outputs": [],
   "source": [
    "Crickters['bins'] = pd.cut(Crickters.Age, bins, labels =Label_lst, include_lowest = True)"
   ]
  },
  {
   "cell_type": "code",
   "execution_count": 7,
   "id": "a40ee70a",
   "metadata": {},
   "outputs": [
    {
     "data": {
      "text/html": [
       "<div>\n",
       "<style scoped>\n",
       "    .dataframe tbody tr th:only-of-type {\n",
       "        vertical-align: middle;\n",
       "    }\n",
       "\n",
       "    .dataframe tbody tr th {\n",
       "        vertical-align: top;\n",
       "    }\n",
       "\n",
       "    .dataframe thead th {\n",
       "        text-align: right;\n",
       "    }\n",
       "</style>\n",
       "<table border=\"1\" class=\"dataframe\">\n",
       "  <thead>\n",
       "    <tr style=\"text-align: right;\">\n",
       "      <th></th>\n",
       "      <th>Name</th>\n",
       "      <th>Age</th>\n",
       "      <th>Role</th>\n",
       "      <th>Rating</th>\n",
       "      <th>Country</th>\n",
       "      <th>bins</th>\n",
       "    </tr>\n",
       "  </thead>\n",
       "  <tbody>\n",
       "    <tr>\n",
       "      <th>0</th>\n",
       "      <td>Virat</td>\n",
       "      <td>31</td>\n",
       "      <td>batsman</td>\n",
       "      <td>871</td>\n",
       "      <td>IND</td>\n",
       "      <td>Super_Senior</td>\n",
       "    </tr>\n",
       "    <tr>\n",
       "      <th>1</th>\n",
       "      <td>Rohit</td>\n",
       "      <td>33</td>\n",
       "      <td>batsman</td>\n",
       "      <td>855</td>\n",
       "      <td>IND</td>\n",
       "      <td>Super_Senior</td>\n",
       "    </tr>\n",
       "    <tr>\n",
       "      <th>2</th>\n",
       "      <td>Babar</td>\n",
       "      <td>25</td>\n",
       "      <td>batsman</td>\n",
       "      <td>829</td>\n",
       "      <td>PAK</td>\n",
       "      <td>Senior</td>\n",
       "    </tr>\n",
       "    <tr>\n",
       "      <th>3</th>\n",
       "      <td>Boult</td>\n",
       "      <td>31</td>\n",
       "      <td>Bowler</td>\n",
       "      <td>722</td>\n",
       "      <td>NZ</td>\n",
       "      <td>Super_Senior</td>\n",
       "    </tr>\n",
       "    <tr>\n",
       "      <th>4</th>\n",
       "      <td>Bumrah</td>\n",
       "      <td>26</td>\n",
       "      <td>Bowler</td>\n",
       "      <td>719</td>\n",
       "      <td>IND</td>\n",
       "      <td>Senior</td>\n",
       "    </tr>\n",
       "    <tr>\n",
       "      <th>5</th>\n",
       "      <td>Mujeeb</td>\n",
       "      <td>19</td>\n",
       "      <td>Bowler</td>\n",
       "      <td>701</td>\n",
       "      <td>AFG</td>\n",
       "      <td>Young</td>\n",
       "    </tr>\n",
       "    <tr>\n",
       "      <th>6</th>\n",
       "      <td>Nabi</td>\n",
       "      <td>35</td>\n",
       "      <td>All-Rounder</td>\n",
       "      <td>301</td>\n",
       "      <td>AFG</td>\n",
       "      <td>Super_Senior</td>\n",
       "    </tr>\n",
       "    <tr>\n",
       "      <th>7</th>\n",
       "      <td>Strokes</td>\n",
       "      <td>29</td>\n",
       "      <td>All-Rounder</td>\n",
       "      <td>285</td>\n",
       "      <td>ENG</td>\n",
       "      <td>Senior</td>\n",
       "    </tr>\n",
       "  </tbody>\n",
       "</table>\n",
       "</div>"
      ],
      "text/plain": [
       "      Name  Age         Role  Rating Country          bins\n",
       "0    Virat   31      batsman     871     IND  Super_Senior\n",
       "1    Rohit   33      batsman     855     IND  Super_Senior\n",
       "2    Babar   25      batsman     829     PAK        Senior\n",
       "3    Boult   31       Bowler     722      NZ  Super_Senior\n",
       "4   Bumrah   26       Bowler     719     IND        Senior\n",
       "5   Mujeeb   19       Bowler     701     AFG         Young\n",
       "6     Nabi   35  All-Rounder     301     AFG  Super_Senior\n",
       "7  Strokes   29  All-Rounder     285     ENG        Senior"
      ]
     },
     "execution_count": 7,
     "metadata": {},
     "output_type": "execute_result"
    }
   ],
   "source": [
    "Crickters"
   ]
  },
  {
   "cell_type": "code",
   "execution_count": 18,
   "id": "18f9cf61",
   "metadata": {},
   "outputs": [
    {
     "data": {
      "text/plain": [
       "<AxesSubplot:>"
      ]
     },
     "execution_count": 18,
     "metadata": {},
     "output_type": "execute_result"
    },
    {
     "data": {
      "image/png": "[encoded data removed]",
      "text/plain": [
       "<Figure size 432x288 with 1 Axes>"
      ]
     },
     "metadata": {
      "needs_background": "light"
     },
     "output_type": "display_data"
    }
   ],
   "source": [
    "Crickters.bins.hist(color='darkorchid')"
   ]
  },
  {
   "cell_type": "code",
   "execution_count": 19,
   "id": "066d59b5",
   "metadata": {},
   "outputs": [
    {
     "data": {
      "text/plain": [
       "<AxesSubplot:>"
      ]
     },
     "execution_count": 19,
     "metadata": {},
     "output_type": "execute_result"
    },
    {
     "data": {
      "image/png": "[encoded data removed]",
      "text/plain": [
       "<Figure size 432x288 with 1 Axes>"
      ]
     },
     "metadata": {
      "needs_background": "light"
     },
     "output_type": "display_data"
    }
   ],
   "source": [
    "Crickters.Age.hist(bins= bins, color='darkorchid')"
   ]
  },
  {
   "cell_type": "code",
   "execution_count": null,
   "id": "7ca3e19d",
   "metadata": {},
   "outputs": [],
   "source": []
  }
 ],
 "metadata": {
  "kernelspec": {
   "display_name": "Python 3",
   "language": "python",
   "name": "python3"
  },
  "language_info": {
   "codemirror_mode": {
    "name": "ipython",
    "version": 3
   },
   "file_extension": ".py",
   "mimetype": "text/x-python",
   "name": "python",
   "nbconvert_exporter": "python",
   "pygments_lexer": "ipython3",
   "version": "3.8.8"
  }
 },
 "nbformat": 4,
 "nbformat_minor": 5
}
